{
  "nbformat": 4,
  "nbformat_minor": 0,
  "metadata": {
    "colab": {
      "provenance": []
    },
    "kernelspec": {
      "name": "python3",
      "display_name": "Python 3"
    },
    "language_info": {
      "name": "python"
    }
  },
  "cells": [
    {
      "cell_type": "markdown",
      "source": [
        "#GOAL-\n",
        "1. Create an random tall skinny matrix A (usually one or no solution).\n",
        "2. Perform the economy SVD of the random matrix and show that any vector of **A** lies in the Column Space defined by Left Singular Matrix A. What is reason for this?\n",
        "3. Take a random vector **'b'** and try to develop a linear model from the given data A. Display the key or unique fingerprint of vector b when represented in the eigen vectors of A.\n",
        "4. Project the new vector **b** onto the basis vectors of left singular matrix from economy svd.\n",
        "5 Calculate the error of the projection (model prediction) in terms of Euclidean distance."
      ],
      "metadata": {
        "id": "RyaVwLUDkXYE"
      }
    },
    {
      "cell_type": "code",
      "source": [
        "import numpy as np\n",
        "import matplotlib.pyplot as plt"
      ],
      "metadata": {
        "id": "Kg9dQihbWOaN"
      },
      "execution_count": 1,
      "outputs": []
    },
    {
      "cell_type": "code",
      "execution_count": 2,
      "metadata": {
        "colab": {
          "base_uri": "https://localhost:8080/",
          "height": 604
        },
        "id": "iPLrBsaeWFJ8",
        "outputId": "f65f8e4b-30d7-4959-9e6d-32be433c3334"
      },
      "outputs": [
        {
          "output_type": "stream",
          "name": "stdout",
          "text": [
            "[[0.81093659 0.63528319 0.73880557 0.15651528 0.16614982]\n",
            " [0.39564982 0.44131551 0.28485327 0.02043666 0.00572267]\n",
            " [0.55298028 0.93480402 0.43358997 0.10143545 0.04637133]\n",
            " [0.77668747 0.94967195 0.74255641 0.62619309 0.72302143]\n",
            " [0.47511815 0.88526841 0.93246595 0.4129889  0.29476418]\n",
            " [0.94345279 0.35448773 0.27552516 0.94130025 0.52385637]\n",
            " [0.46055257 0.81271288 0.50856716 0.89064219 0.21622333]\n",
            " [0.64341387 0.21267591 0.37915    0.74811325 0.38479764]\n",
            " [0.47360219 0.01451093 0.83566708 0.76062821 0.32368647]\n",
            " [0.52437571 0.42402251 0.65729112 0.98008211 0.75249756]]\n"
          ]
        },
        {
          "output_type": "display_data",
          "data": {
            "text/plain": [
              "<Figure size 640x480 with 1 Axes>"
            ],
            "image/png": "[encoded data removed]"
          },
          "metadata": {}
        }
      ],
      "source": [
        "# Defining a random matrix:\n",
        "A = np.random.rand(10,5) # Long skiny matrix\n",
        "plt.imshow(A)\n",
        "print(A)"
      ]
    },
    {
      "cell_type": "code",
      "source": [
        "# Let us print the number of Linearly Independent columns in the matrix A\n",
        "rank = np.linalg.matrix_rank(A)\n",
        "print(rank)"
      ],
      "metadata": {
        "colab": {
          "base_uri": "https://localhost:8080/"
        },
        "id": "fkmS7J0_Yn8x",
        "outputId": "bd911f64-92fb-469b-a524-2d36b50e06d7"
      },
      "execution_count": 3,
      "outputs": [
        {
          "output_type": "stream",
          "name": "stdout",
          "text": [
            "5\n"
          ]
        }
      ]
    },
    {
      "cell_type": "code",
      "source": [
        "# Let us do a Svd decomposition of the matrix A:\n",
        "U, S, VT = np.linalg.svd(A, full_matrices = True)\n",
        "\n",
        "print(f'U matrix is:\\n {U}')\n",
        "print(f'Shape of the U matrix is: {U.shape}')\n",
        "print()\n",
        "print(f'S matrix is:\\n {S}')\n",
        "print(f'Shape of the S matrix is: {S.shape}')\n",
        "print()\n",
        "print(f'VT matrix is:\\n {VT}')\n",
        "print(f'Shape of the VT matrix is: {VT.shape}')"
      ],
      "metadata": {
        "colab": {
          "base_uri": "https://localhost:8080/"
        },
        "id": "FLv9aRQVWcCN",
        "outputId": "36e072f4-3ad4-4f11-fd92-2805604e5884"
      },
      "execution_count": 4,
      "outputs": [
        {
          "output_type": "stream",
          "name": "stdout",
          "text": [
            "U matrix is:\n",
            " [[-2.95805900e-01  3.33515671e-01 -1.19138782e-01 -5.69960803e-01\n",
            "  -8.32650955e-03 -2.28100706e-01  4.47911719e-01 -2.04008152e-01\n",
            "  -4.05008645e-01  6.19782228e-02]\n",
            " [-1.37917893e-01  2.68452319e-01  8.40128374e-02 -2.06011976e-01\n",
            "  -9.31147908e-02  6.82296786e-01  2.76786023e-01  4.62610900e-01\n",
            "   2.92347029e-01  9.55380270e-02]\n",
            " [-2.46234037e-01  5.01182684e-01  2.32281095e-01  1.50454563e-02\n",
            "  -1.41047927e-01 -3.75483802e-01 -3.00474439e-01 -7.77848566e-02\n",
            "   4.82389991e-01  3.79586308e-01]\n",
            " [-4.29863568e-01  1.25426006e-01  1.04194807e-01  1.46510645e-01\n",
            "   6.11542935e-01 -7.90107037e-02  9.21382122e-02  7.58730185e-03\n",
            "   2.22665770e-01 -5.73418859e-01]\n",
            " [-3.48247212e-01  3.21729767e-01 -4.00055368e-01  2.08337066e-01\n",
            "  -4.00682089e-03  2.96160069e-01 -5.40628842e-01  3.42868299e-02\n",
            "  -4.36419523e-01  1.10106192e-02]\n",
            " [-3.47772324e-01 -3.54899519e-01  5.50248229e-01 -3.01189803e-01\n",
            "  -7.28845610e-02  3.23188686e-01 -2.92870125e-01 -3.96944565e-01\n",
            "  -8.06926664e-02  2.01165238e-04]\n",
            " [-3.39487134e-01  6.16214476e-03  1.56020397e-01  5.36339259e-01\n",
            "  -6.13747673e-01 -4.10480364e-02  3.68302372e-01 -7.08314186e-02\n",
            "  -1.00836755e-01 -2.08579538e-01]\n",
            " [-2.71894602e-01 -2.92041720e-01  1.39865136e-01 -2.02411443e-01\n",
            "  -1.21707754e-01 -3.75145686e-01 -1.93021537e-01  7.42786773e-01\n",
            "  -1.80570129e-01 -5.57689096e-02]\n",
            " [-2.79216666e-01 -3.31181867e-01 -6.25714884e-01 -2.56270642e-01\n",
            "  -2.74121848e-01 -1.98186932e-02 -6.02715541e-02 -1.50733953e-01\n",
            "   4.77797438e-01 -1.58061766e-01]\n",
            " [-3.72426893e-01 -3.53996336e-01 -1.25282010e-01  2.87380495e-01\n",
            "   3.54134213e-01  1.53839380e-02  2.63441045e-01  7.29373429e-03\n",
            "  -1.35551506e-02  6.65143475e-01]]\n",
            "Shape of the U matrix is: (10, 10)\n",
            "\n",
            "S matrix is:\n",
            " [3.93371548 1.28209972 0.68055056 0.59680809 0.44333704]\n",
            "Shape of the S matrix is: (5,)\n",
            "\n",
            "VT matrix is:\n",
            " [[-0.48729153 -0.46126089 -0.4723795  -0.48239638 -0.30649093]\n",
            " [ 0.03254161  0.67465075  0.17042711 -0.64423599 -0.31575623]\n",
            " [ 0.403895    0.31257191 -0.85268306  0.10209107  0.04094681]\n",
            " [-0.77188696  0.48398104 -0.13810073  0.36087426  0.14370398]\n",
            " [-0.05047135 -0.01207956 -0.04089    -0.46000097  0.88545685]]\n",
            "Shape of the VT matrix is: (5, 5)\n"
          ]
        }
      ]
    },
    {
      "cell_type": "markdown",
      "source": [
        "Observe that U consists of 10 mutually orthonormal columns in R10, i.e., any new vector in R10 can be expressed a s a linear combination of the columns in U. U spans the entire R10 dimensional space.  "
      ],
      "metadata": {
        "id": "qNBdt1tEX3le"
      }
    },
    {
      "cell_type": "code",
      "source": [
        "# The full matrix computation is expensive so we will instead opt for an economy SVD.\n",
        "# Computing the economy SVD. Since the rank of matrix A = 5, we will get U as (all rows, :rank)\n",
        "(U_hat, S_hat, VT_hat) = np.linalg.svd(A, full_matrices = False)\n",
        "print(f'U_hat matrix is:\\n {U_hat}')\n",
        "print(f'Shape of the U_hat matrix is: {U_hat.shape}')\n",
        "print()\n",
        "print(f'S_hat matrix is:\\n {S_hat}')\n",
        "print(f'Shape of the S_hat matrix is: {S_hat.shape}')\n",
        "print()\n",
        "print(f'VT_hat matrix is:\\n {VT_hat}')\n",
        "print(f'Shape of the VT_hat matrix is: {VT_hat.shape}')"
      ],
      "metadata": {
        "colab": {
          "base_uri": "https://localhost:8080/"
        },
        "id": "ZbBr_DfLXyad",
        "outputId": "d2953f06-f4f2-4cef-bf96-bcddfa862c65"
      },
      "execution_count": 5,
      "outputs": [
        {
          "output_type": "stream",
          "name": "stdout",
          "text": [
            "U_hat matrix is:\n",
            " [[-0.2958059   0.33351567 -0.11913878 -0.5699608  -0.00832651]\n",
            " [-0.13791789  0.26845232  0.08401284 -0.20601198 -0.09311479]\n",
            " [-0.24623404  0.50118268  0.23228109  0.01504546 -0.14104793]\n",
            " [-0.42986357  0.12542601  0.10419481  0.14651064  0.61154294]\n",
            " [-0.34824721  0.32172977 -0.40005537  0.20833707 -0.00400682]\n",
            " [-0.34777232 -0.35489952  0.55024823 -0.3011898  -0.07288456]\n",
            " [-0.33948713  0.00616214  0.1560204   0.53633926 -0.61374767]\n",
            " [-0.2718946  -0.29204172  0.13986514 -0.20241144 -0.12170775]\n",
            " [-0.27921667 -0.33118187 -0.62571488 -0.25627064 -0.27412185]\n",
            " [-0.37242689 -0.35399634 -0.12528201  0.28738049  0.35413421]]\n",
            "Shape of the U_hat matrix is: (10, 5)\n",
            "\n",
            "S_hat matrix is:\n",
            " [3.93371548 1.28209972 0.68055056 0.59680809 0.44333704]\n",
            "Shape of the S_hat matrix is: (5,)\n",
            "\n",
            "VT_hat matrix is:\n",
            " [[-0.48729153 -0.46126089 -0.4723795  -0.48239638 -0.30649093]\n",
            " [ 0.03254161  0.67465075  0.17042711 -0.64423599 -0.31575623]\n",
            " [ 0.403895    0.31257191 -0.85268306  0.10209107  0.04094681]\n",
            " [-0.77188696  0.48398104 -0.13810073  0.36087426  0.14370398]\n",
            " [-0.05047135 -0.01207956 -0.04089    -0.46000097  0.88545685]]\n",
            "Shape of the VT_hat matrix is: (5, 5)\n"
          ]
        }
      ]
    },
    {
      "cell_type": "markdown",
      "source": [
        "Observe that now a new vetor can be in a R10 dimensional space but U_hat that can be taken as the new coordinate basis only spans R5. Thus it is possible that a new vector b may lie outside the column span of A. In such a case we need to solve fir the projection of b onto the vectors of U. These vectors of U are the eigen vectors of UUT."
      ],
      "metadata": {
        "id": "iZ_CcaNkZCWK"
      }
    },
    {
      "cell_type": "markdown",
      "source": [
        "**Instead of using the vectors in A, we will use the mutually orthogonal vectors of A that are present in U_hat**"
      ],
      "metadata": {
        "id": "gnfn0DgNaGUT"
      }
    },
    {
      "cell_type": "code",
      "source": [
        "# Let us consider the first column of A and check if it lies in the column span of U: Normal form: -- x = U'b (here b = A(first column))\n",
        "b1 = A[:,0]\n",
        "x = np.matmul(np.transpose(U_hat), b1)\n",
        "print(f'The parameters for the model are: {x}')"
      ],
      "metadata": {
        "colab": {
          "base_uri": "https://localhost:8080/"
        },
        "id": "rXxsY4FiZlmG",
        "outputId": "1c1a7078-b0e6-406d-c28e-df78cbaea5c2"
      },
      "execution_count": 6,
      "outputs": [
        {
          "output_type": "stream",
          "name": "stdout",
          "text": [
            "The parameters for the model are: [-1.91686624  0.04172159  0.27487097 -0.46066838 -0.02237582]\n"
          ]
        }
      ]
    },
    {
      "cell_type": "code",
      "source": [
        "# Let us project this b1 onto the C(U): Model prediction for given vectors\n",
        "prediction = np.matmul(U_hat, x)\n",
        "print(f'The closest vector to b in terms of eigen vector basis of AAT are (b projection on C(U): {prediction}')\n",
        "e_vec = (b1-prediction)\n",
        "err_mag = np.matmul(np.transpose(e_vec), e_vec)\n",
        "print(f' The magnitude of error is: {err_mag}')"
      ],
      "metadata": {
        "colab": {
          "base_uri": "https://localhost:8080/"
        },
        "id": "RDpRqsybZliR",
        "outputId": "bd5a82d8-fa16-4114-c9de-62d661ebb91b"
      },
      "execution_count": 7,
      "outputs": [
        {
          "output_type": "stream",
          "name": "stdout",
          "text": [
            "The closest vector to b in terms of eigen vector basis of AAT are (b projection on C(U): [0.81093659 0.39564982 0.55298028 0.77668747 0.47511815 0.94345279\n",
            " 0.46055257 0.64341387 0.47360219 0.52437571]\n",
            " The magnitude of error is: 3.143117669239969e-31\n"
          ]
        }
      ]
    },
    {
      "cell_type": "markdown",
      "source": [
        "Result: One observation is **any vector in the column space of A also lies in the column space of Vectors of U, which is an obvious result**"
      ],
      "metadata": {
        "id": "5MYtWUxiddty"
      }
    },
    {
      "cell_type": "markdown",
      "source": [
        "# Vector outside the column span of A or U_hat.\n",
        "**Example of a face that does not lie in the column span of face directory or the eigen face vector span**\n",
        "\n",
        "1. We will represent a new face in terms of the eigenvectors of the U_hat matrix.\n",
        "2. Each face will be projected onto the eigen vectors of U_hat matrix."
      ],
      "metadata": {
        "id": "3YpbkkEweCkP"
      }
    },
    {
      "cell_type": "code",
      "source": [
        "b = np.random.rand(10,1)\n",
        "print(b)"
      ],
      "metadata": {
        "colab": {
          "base_uri": "https://localhost:8080/"
        },
        "id": "FOqrjicgZlg2",
        "outputId": "6dcbf8a3-7846-4914-fcd5-716991f4e075"
      },
      "execution_count": 8,
      "outputs": [
        {
          "output_type": "stream",
          "name": "stdout",
          "text": [
            "[[0.177074  ]\n",
            " [0.85031861]\n",
            " [0.81895997]\n",
            " [0.50374694]\n",
            " [0.07000645]\n",
            " [0.21798251]\n",
            " [0.15475324]\n",
            " [0.46727179]\n",
            " [0.68564575]\n",
            " [0.16451801]]\n"
          ]
        }
      ]
    },
    {
      "cell_type": "code",
      "source": [
        "# Representing the new vector b\n",
        "x_dash = np.matmul(np.transpose(U_hat), b)\n",
        "# x_dash gives the linear combination of the eigen vectors in U that form the projection of b onto C(U)\n",
        "print(f'The parameters for the model are:\\n {x_dash}')"
      ],
      "metadata": {
        "colab": {
          "base_uri": "https://localhost:8080/"
        },
        "id": "EEMVS9z5NovE",
        "outputId": "512ded8b-9f44-44c9-c02b-0f41ed4a3aab"
      },
      "execution_count": 24,
      "outputs": [
        {
          "output_type": "stream",
          "name": "stdout",
          "text": [
            "The parameters for the model are:\n",
            " [[-1.12033986]\n",
            " [ 0.2852983 ]\n",
            " [ 0.02486586]\n",
            " [-0.38105684]\n",
            " [-0.1858085 ]]\n"
          ]
        }
      ]
    },
    {
      "cell_type": "code",
      "source": [
        "# How much of each of the eigen vector is required to form the closest b which is the projection of b on the eig vectors of U_hat\n",
        "# Importance of the varaiables on the Concrete Compressive Strength:\n",
        "instances = list(np.arange(1, len(x_dash)+1))\n",
        "values = x_dash\n",
        "values = values.flatten().tolist()\n",
        "plt.bar(instances, values)\n",
        "plt.xlabel('Independent Variables')\n",
        "plt.ylabel('Significance or Slope')"
      ],
      "metadata": {
        "colab": {
          "base_uri": "https://localhost:8080/",
          "height": 466
        },
        "id": "ggUd77aRPt4k",
        "outputId": "e0b566b5-22d7-4597-fc29-604db730a8bb"
      },
      "execution_count": 29,
      "outputs": [
        {
          "output_type": "execute_result",
          "data": {
            "text/plain": [
              "Text(0, 0.5, 'Significance or Slope')"
            ]
          },
          "metadata": {},
          "execution_count": 29
        },
        {
          "output_type": "display_data",
          "data": {
            "text/plain": [
              "<Figure size 640x480 with 1 Axes>"
            ],
            "image/png": "[encoded data removed]"
          },
          "metadata": {}
        }
      ]
    },
    {
      "cell_type": "code",
      "source": [
        "# Projection of b onto the C(U) or onto the new coordinates formed from eigen vectors of U\n",
        "Projection = np.matmul(U_hat, x_dash)\n",
        "print(f'The closest vector (face) to the face b in the eigen vector bases is:\\n {Projection}')"
      ],
      "metadata": {
        "colab": {
          "base_uri": "https://localhost:8080/"
        },
        "id": "HjD5KW98NsJg",
        "outputId": "aa01a824-bc10-4e7b-adf7-d04fd67b23c1"
      },
      "execution_count": 30,
      "outputs": [
        {
          "output_type": "stream",
          "name": "stdout",
          "text": [
            "The closest vector (face) to the face b in the eigen vector bases is:\n",
            " [[0.6423267 ]\n",
            " [0.32899675]\n",
            " [0.44510297]\n",
            " [0.35050925]\n",
            " [0.3933527 ]\n",
            " [0.43036637]\n",
            " [0.29564239]\n",
            " [0.32451782]\n",
            " [0.35136085]\n",
            " [0.13782545]]\n"
          ]
        }
      ]
    }
  ]
}